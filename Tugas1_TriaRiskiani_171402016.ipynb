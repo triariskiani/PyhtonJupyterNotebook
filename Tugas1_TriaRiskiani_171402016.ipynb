{
 "cells": [
  {
   "cell_type": "code",
   "execution_count": 10,
   "metadata": {},
   "outputs": [
    {
     "name": "stdout",
     "output_type": "stream",
     "text": [
      "--Fibonacci Rekursif-- \n",
      "Masukan Bilangan : 10\n",
      "Deret Bilangan Fibonacci : \n",
      "0\n",
      "1\n",
      "1\n",
      "2\n",
      "3\n",
      "5\n",
      "8\n",
      "13\n",
      "21\n",
      "34\n"
     ]
    }
   ],
   "source": [
    "class Fibonacci:\n",
    "    def fibo(n):\n",
    "        if (n <= 1):\n",
    "            return n\n",
    "        else:\n",
    "            return (fibo(n-1) + fibo(n-2))\n",
    "print (\"--Fibonacci Rekursif-- \")\n",
    "\n",
    "nbil= int (input(\"Masukan Bilangan : \"))\n",
    "if (nbil <= 0):\n",
    "    print(\"Masukkan Bilangan Positif\")\n",
    "else:\n",
    "    print(\"Deret Bilangan Fibonacci : \")\n",
    "for i in range (0,nbil):\n",
    "    print(Fibonacci.fibo(i))"
   ]
  },
  {
   "cell_type": "code",
   "execution_count": null,
   "metadata": {},
   "outputs": [],
   "source": []
  }
 ],
 "metadata": {
  "kernelspec": {
   "display_name": "Python 3",
   "language": "python",
   "name": "python3"
  },
  "language_info": {
   "codemirror_mode": {
    "name": "ipython",
    "version": 3
   },
   "file_extension": ".py",
   "mimetype": "text/x-python",
   "name": "python",
   "nbconvert_exporter": "python",
   "pygments_lexer": "ipython3",
   "version": "3.7.2"
  }
 },
 "nbformat": 4,
 "nbformat_minor": 2
}
